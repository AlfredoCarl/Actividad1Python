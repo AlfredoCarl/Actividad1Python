{
  "nbformat": 4,
  "nbformat_minor": 0,
  "metadata": {
    "colab": {
      "provenance": [],
      "authorship_tag": "ABX9TyMOE64nc9b9Qg73MiPPqabE",
      "include_colab_link": true
    },
    "kernelspec": {
      "name": "python3",
      "display_name": "Python 3"
    },
    "language_info": {
      "name": "python"
    }
  },
  "cells": [
    {
      "cell_type": "markdown",
      "metadata": {
        "id": "view-in-github",
        "colab_type": "text"
      },
      "source": [
        "<a href=\"https://colab.research.google.com/github/AlfredoCarl/Actividad1Python/blob/main/Actividad_1_ElProfessor_Bootcamps_(Python)_Carlos_Alfredo_Mej%C3%ADa_R%C3%ADos_Summer_2023.ipynb\" target=\"_parent\"><img src=\"https://colab.research.google.com/assets/colab-badge.svg\" alt=\"Open In Colab\"/></a>"
      ]
    },
    {
      "cell_type": "markdown",
      "source": [],
      "metadata": {
        "id": "5_4YsOH4rw_E"
      }
    },
    {
      "cell_type": "code",
      "source": [
        "nombre = \"Alfredo\"\n",
        "edad = 20\n",
        "print('Hola, mi nombre es', nombre, 'y tengo', edad, 'años.')"
      ],
      "metadata": {
        "colab": {
          "base_uri": "https://localhost:8080/"
        },
        "id": "AjgpdKEGrxVp",
        "outputId": "af5cd291-e302-46f1-c9fc-5ad70eef6a6e"
      },
      "execution_count": null,
      "outputs": [
        {
          "output_type": "stream",
          "name": "stdout",
          "text": [
            "Hola, mi nombre es Alfredo y tengo 20 años.\n"
          ]
        }
      ]
    },
    {
      "cell_type": "code",
      "source": [
        "un_numero = 14\n",
        "una_cadena = \"Hola , mundo\"\n",
        "un_booleano = False\n",
        "una_lista =[1,4,5,3]\n",
        "una_tupla =(1,2,3)\n",
        "un_diccionario ={'nombre':'Juan','edad':14}\n",
        "\n",
        "print(type(un_numero))\n",
        "print(type(una_cadena))\n",
        "print(type(un_booleano))\n",
        "print(type(una_lista))\n",
        "print(type(una_tupla))\n",
        "print(type(un_diccionario))\n"
      ],
      "metadata": {
        "id": "Dgza1yrKsMB0",
        "colab": {
          "base_uri": "https://localhost:8080/"
        },
        "outputId": "1e79c984-1129-4a13-b088-6d9928016526"
      },
      "execution_count": null,
      "outputs": [
        {
          "output_type": "stream",
          "name": "stdout",
          "text": [
            "<class 'int'>\n",
            "<class 'str'>\n",
            "<class 'bool'>\n",
            "<class 'list'>\n",
            "<class 'tuple'>\n",
            "<class 'dict'>\n"
          ]
        }
      ]
    },
    {
      "cell_type": "code",
      "source": [
        "nombre_usuario = input(\"Escribe tu nombre \")\n",
        "edad_usuario = int(input(\"coloca tu edad \"))\n",
        "print(f\"Hola {nombre_usuario} tienes {edad_usuario} años\")"
      ],
      "metadata": {
        "colab": {
          "base_uri": "https://localhost:8080/"
        },
        "id": "7Jp_6x8gSC1N",
        "outputId": "c5f1a5bb-8502-40b1-b892-b93b16ceabc5"
      },
      "execution_count": null,
      "outputs": [
        {
          "output_type": "stream",
          "name": "stdout",
          "text": [
            "Escribe tu nombre pd\n",
            "coloca tu edad 34\n",
            "Hola pd tienes 34 años\n"
          ]
        }
      ]
    },
    {
      "cell_type": "code",
      "source": [
        "edad = int(input('Por favor, introduce tu edad: '))\n",
        "if edad<18:\n",
        "  print(\"Eres menor de edad\")\n",
        "elif edad>18 & edad<21:\n",
        "  print(\"Eres menor de edad en USA\")\n",
        "else:\n",
        "  print(\"Eres mayor de edad en todo el mundo\")\n"
      ],
      "metadata": {
        "colab": {
          "base_uri": "https://localhost:8080/"
        },
        "id": "L0KTMAXfSxAF",
        "outputId": "78f58be2-6c37-4696-e052-2a191832c332"
      },
      "execution_count": null,
      "outputs": [
        {
          "output_type": "stream",
          "name": "stdout",
          "text": [
            "Por favor, introduce tu edad: 54\n",
            "Eres menor de edad en USA\n"
          ]
        }
      ]
    },
    {
      "cell_type": "code",
      "source": [
        "for i in range(0, 100, 7):\n",
        "    print(i)"
      ],
      "metadata": {
        "colab": {
          "base_uri": "https://localhost:8080/"
        },
        "id": "Dlpnl0VcUDK-",
        "outputId": "12c30925-d033-483c-9d1d-509763309f18"
      },
      "execution_count": null,
      "outputs": [
        {
          "output_type": "stream",
          "name": "stdout",
          "text": [
            "0\n",
            "7\n",
            "14\n",
            "21\n",
            "28\n",
            "35\n",
            "42\n",
            "49\n",
            "56\n",
            "63\n",
            "70\n",
            "77\n",
            "84\n",
            "91\n",
            "98\n"
          ]
        }
      ]
    },
    {
      "cell_type": "code",
      "source": [
        "numero = int(input('Introduce un número para obtener su tabla de multiplicar: '))\n",
        "for i in range(1, 10):\n",
        "  mult=numero*i\n",
        "  print(f\"{numero}x{i}={mult}\")"
      ],
      "metadata": {
        "colab": {
          "base_uri": "https://localhost:8080/"
        },
        "id": "zFA-3xNFTppO",
        "outputId": "ab12928a-986b-4841-c154-e9c9fcfc120e"
      },
      "execution_count": null,
      "outputs": [
        {
          "output_type": "stream",
          "name": "stdout",
          "text": [
            "Introduce un número para obtener su tabla de multiplicar: 22\n",
            "22x1=22\n",
            "22x2=44\n",
            "22x3=66\n",
            "22x4=88\n",
            "22x5=110\n",
            "22x6=132\n",
            "22x7=154\n",
            "22x8=176\n",
            "22x9=198\n"
          ]
        }
      ]
    },
    {
      "cell_type": "code",
      "source": [
        "suma = 0\n",
        "numero = int(input(\"ingresa el numero por el que quieres empezar a sumar\"))\n",
        "while suma<100:\n",
        "  suma+= numero\n",
        "  print(suma)"
      ],
      "metadata": {
        "colab": {
          "base_uri": "https://localhost:8080/"
        },
        "id": "UXas2stsVv1T",
        "outputId": "2fe1aed1-76d9-45cf-94b5-e6c005b7fa68"
      },
      "execution_count": null,
      "outputs": [
        {
          "output_type": "stream",
          "name": "stdout",
          "text": [
            "ingresa el numero por el que quieres empezar a sumar33\n",
            "33\n",
            "66\n",
            "99\n",
            "132\n"
          ]
        }
      ]
    },
    {
      "cell_type": "code",
      "source": [
        "\n",
        "numero_secreto = 7\n",
        "while numero_secreto!=adivinanza:\n",
        "  print(\"intentalo de nuevo\")\n",
        "  adivinanza = int(input('Adivina un número entre 1 y 10: '))\n",
        "\n",
        "print('¡Correcto! El número secreto era', numero_secreto)"
      ],
      "metadata": {
        "colab": {
          "base_uri": "https://localhost:8080/"
        },
        "id": "ByrO0kX1WlbT",
        "outputId": "49097dc5-0ff6-4dd7-f465-41cd7a22a1b8"
      },
      "execution_count": null,
      "outputs": [
        {
          "output_type": "stream",
          "name": "stdout",
          "text": [
            "intentalo de nuevo\n",
            "Adivina un número entre 1 y 10: 6\n",
            "intentalo de nuevo\n",
            "Adivina un número entre 1 y 10: 5\n",
            "intentalo de nuevo\n",
            "Adivina un número entre 1 y 10: 7\n",
            "¡Correcto! El número secreto era 7\n"
          ]
        }
      ]
    },
    {
      "cell_type": "code",
      "source": [
        "import math\n",
        "\n",
        "numero = 25\n",
        "raiz_cuadrada = math.sqrt(numero)\n",
        "print(f'La raíz cuadrada de {numero} es {raiz_cuadrada}')"
      ],
      "metadata": {
        "colab": {
          "base_uri": "https://localhost:8080/"
        },
        "id": "G_C8M5g0XHhO",
        "outputId": "2e6bbecc-a8b0-49b6-a1b1-022ff7764c1e"
      },
      "execution_count": null,
      "outputs": [
        {
          "output_type": "stream",
          "name": "stdout",
          "text": [
            "La raíz cuadrada de 25 es 5.0\n"
          ]
        }
      ]
    },
    {
      "cell_type": "code",
      "source": [
        "print (\"Programa que calcula el factorial\")\n",
        "numero = int(input(\"Introduzca el número: \"))\n",
        "factorial = 1\n",
        "i = 1\n",
        "while (i <= numero):\n",
        "    factorial = factorial * i\n",
        "    i = i + 1\n",
        "print (f\"El factorial de {numero} es {factorial} \")"
      ],
      "metadata": {
        "colab": {
          "base_uri": "https://localhost:8080/"
        },
        "id": "OxboVy4aXXZQ",
        "outputId": "63946412-cde9-4ea2-e61a-b2a2c143c535"
      },
      "execution_count": null,
      "outputs": [
        {
          "output_type": "stream",
          "name": "stdout",
          "text": [
            "Programa que calcula el factorial\n",
            "Introduzca el número: 5\n",
            "El factorial de 5 es 120 \n"
          ]
        }
      ]
    },
    {
      "cell_type": "code",
      "source": [
        "# farenheit= celsius*(9/5)+32\n",
        "grados_celsius = float(input(\"Ingrese los grados celsius que quiera convertir a fahrenheit\"))\n",
        "celsius_a_fahrenheit= grados_celsius*(9/5)+32\n",
        "print(f\"{grados_celsius} grados Celsius son {celsius_a_fahrenheit} grados Fahrenheit\")"
      ],
      "metadata": {
        "colab": {
          "base_uri": "https://localhost:8080/"
        },
        "id": "MrbXCwSoYGW4",
        "outputId": "a8223d5e-dcb4-4e27-80fa-4c790740f824"
      },
      "execution_count": null,
      "outputs": [
        {
          "output_type": "stream",
          "name": "stdout",
          "text": [
            "Ingrese los grados celsius que quiera convertir a fahrenheit8\n",
            "8.0 grados Celsius son 46.4 grados Fahrenheit\n"
          ]
        }
      ]
    },
    {
      "cell_type": "code",
      "source": [
        "cuadrado = lambda numero : numero*numero\n",
        "numero = 7\n",
        "print(f'El cuadrado de {numero} es {cuadrado(numero)}')"
      ],
      "metadata": {
        "colab": {
          "base_uri": "https://localhost:8080/"
        },
        "id": "zIBfp_CJX4AZ",
        "outputId": "65c9f2f7-3d70-4a1f-a742-b5afb493adbe"
      },
      "execution_count": null,
      "outputs": [
        {
          "output_type": "stream",
          "name": "stdout",
          "text": [
            "El cuadrado de 7 es 49\n"
          ]
        }
      ]
    },
    {
      "cell_type": "code",
      "source": [
        "mi_lista = []\n",
        "# Agrega los números 5, 10 y 15 a la lista\n",
        "mi_lista.append(5)\n",
        "mi_lista.append(10)\n",
        "mi_lista.append(15)\n",
        "\n",
        "mi_lista.remove(10)\n",
        "\n",
        "mi_lista[1] = 20\n",
        "\n",
        "print(mi_lista)"
      ],
      "metadata": {
        "colab": {
          "base_uri": "https://localhost:8080/"
        },
        "id": "vOT4A0XDZssE",
        "outputId": "da2299fc-84f3-4d4c-b0f9-6c526f4a723d"
      },
      "execution_count": null,
      "outputs": [
        {
          "output_type": "stream",
          "name": "stdout",
          "text": [
            "[5, 20]\n"
          ]
        }
      ]
    },
    {
      "cell_type": "code",
      "source": [
        "# El objetivo de este ejercicio es trabajar con cadenas de texto.\n",
        "\n",
        "mi_cadena = \"¡Hola, mundo!\"\n",
        "print(len(mi_cadena))\n",
        "\n",
        "# Imprime la cadena en mayúsculas\n",
        "mayus= mi_cadena.upper()\n",
        "print(mayus)\n",
        "\n",
        "# Imprime la cadena en minúsculas\n",
        "minus= mi_cadena.lower()\n",
        "print(minus)\n",
        "\n",
        "# Imprime la cadena al revés\n",
        "reves= ''.join(reversed(mi_cadena))\n",
        "print(reves)"
      ],
      "metadata": {
        "colab": {
          "base_uri": "https://localhost:8080/"
        },
        "id": "VKkXNI7YaDPZ",
        "outputId": "c248ce99-2b74-4ce1-e88e-33beb0ce1fff"
      },
      "execution_count": null,
      "outputs": [
        {
          "output_type": "stream",
          "name": "stdout",
          "text": [
            "13\n",
            "¡HOLA, MUNDO!\n",
            "¡hola, mundo!\n",
            "!odnum ,aloH¡\n"
          ]
        }
      ]
    },
    {
      "cell_type": "code",
      "source": [
        "mi_tupla = (10, 20, 30)\n",
        "print(mi_tupla[0])\n",
        "print(mi_tupla[2])\n",
        "# mi_tupla[0] = 5"
      ],
      "metadata": {
        "colab": {
          "base_uri": "https://localhost:8080/"
        },
        "id": "ynOsUH-weUdx",
        "outputId": "afec10df-803a-4c06-bc5c-3f6b7909dca1"
      },
      "execution_count": null,
      "outputs": [
        {
          "output_type": "stream",
          "name": "stdout",
          "text": [
            "10\n",
            "30\n"
          ]
        }
      ]
    },
    {
      "cell_type": "code",
      "source": [
        "# Crea un diccionario vacío llamado 'mi_diccionario'\n",
        "mi_diccionario = {}\n",
        "\n",
        "# Agrega al diccionario una clave 'nombre' con valor 'Juan'\n",
        "mi_diccionario['nombre'] = 'Juan'\n",
        "\n",
        "# Agrega una clave 'edad' con valor 20\n",
        "mi_diccionario['edad'] = 20\n",
        "\n",
        "# Imprime el diccionario\n",
        "print(mi_diccionario)\n",
        "\n",
        "# Modifica el valor de la clave 'nombre' a 'Carlos'\n",
        "mi_diccionario['nombre'] = 'Carlos'\n",
        "\n",
        "# Imprime el diccionario\n",
        "print(mi_diccionario)\n",
        "\n",
        "# Elimina la clave 'edad'\n",
        "del mi_diccionario['edad']\n",
        "\n",
        "# Imprime el diccionario\n",
        "print(mi_diccionario)"
      ],
      "metadata": {
        "colab": {
          "base_uri": "https://localhost:8080/"
        },
        "id": "aDgCLaK8jbZp",
        "outputId": "523fd2f5-8f5e-4ba1-b90e-c6c9f0b1efd8"
      },
      "execution_count": null,
      "outputs": [
        {
          "output_type": "stream",
          "name": "stdout",
          "text": [
            "{'nombre': 'Juan', 'edad': 20}\n",
            "{'nombre': 'Carlos', 'edad': 20}\n",
            "{'nombre': 'Carlos'}\n"
          ]
        }
      ]
    },
    {
      "cell_type": "code",
      "source": [
        "import collections\n",
        "palabras = ['manzana', 'naranja', 'platano', 'manzana', 'naranja', 'manzana']\n",
        "#s= \",\".join(palabras)\n",
        "frecuencia = collections.Counter(palabras)\n",
        "print(frecuencia)"
      ],
      "metadata": {
        "colab": {
          "base_uri": "https://localhost:8080/"
        },
        "id": "3MVpWsfvkMel",
        "outputId": "8013654d-be2d-4260-8eb4-133bdbd56754"
      },
      "execution_count": null,
      "outputs": [
        {
          "output_type": "stream",
          "name": "stdout",
          "text": [
            "Counter({'manzana': 3, 'naranja': 2, 'platano': 1})\n"
          ]
        }
      ]
    },
    {
      "cell_type": "code",
      "source": [
        "import keyword\n",
        "mi_diccionario = {'nombre': 'Juan', 'edad': 20}\n",
        "def obtener_valor(mi_diccionario[]):\n",
        "  return mi_diccionario[\"\":\"\"]\n",
        "\n",
        "\n",
        "print(obtener_valor(mi_diccionario, 'nombre'))  # Debería imprimir 'Juan'\n",
        "print(obtener_valor(mi_diccionario, 'altura'))  # Debería imprimir 'No encontrado'"
      ],
      "metadata": {
        "colab": {
          "base_uri": "https://localhost:8080/",
          "height": 141
        },
        "id": "v1T0R11ypIyd",
        "outputId": "1a36359f-4a9f-42c5-e9f7-5e0a2fad24a2"
      },
      "execution_count": null,
      "outputs": [
        {
          "output_type": "error",
          "ename": "SyntaxError",
          "evalue": "ignored",
          "traceback": [
            "\u001b[0;36m  File \u001b[0;32m\"<ipython-input-4-513b0c28799a>\"\u001b[0;36m, line \u001b[0;32m3\u001b[0m\n\u001b[0;31m    def obtener_valor(mi_diccionario{0}):\u001b[0m\n\u001b[0m                                    ^\u001b[0m\n\u001b[0;31mSyntaxError\u001b[0m\u001b[0;31m:\u001b[0m invalid syntax\n"
          ]
        }
      ]
    },
    {
      "cell_type": "code",
      "source": [
        "class Estudiante():\n",
        "  def _init_(self,nombre,edad):\n",
        "    self.nombre = nombre\n",
        "    self.edad = edad\n",
        "    pass\n",
        "\n",
        "  def nombre(self):\n",
        "    print(f\"nombre es {self.nombre} y su edad es {self.edad}\")\n",
        "\n",
        "# Crea una instancia de la clase Estudiante con nombre 'Juan' y edad 20.\n",
        "juan = Estudiante('Juan', 20)\n",
        "\n",
        "# Imprime el nombre y la edad de Juan.\n",
        "print(juan.nombre)  # Debería imprimir 'Juan'\n",
        "print(juan.edad)  # Debería imprimir 20"
      ],
      "metadata": {
        "colab": {
          "base_uri": "https://localhost:8080/",
          "height": 245
        },
        "id": "4s8JD82orFIZ",
        "outputId": "14f3bfcc-1a1b-4a02-882b-9d8ffe910797"
      },
      "execution_count": null,
      "outputs": [
        {
          "output_type": "error",
          "ename": "TypeError",
          "evalue": "ignored",
          "traceback": [
            "\u001b[0;31m---------------------------------------------------------------------------\u001b[0m",
            "\u001b[0;31mTypeError\u001b[0m                                 Traceback (most recent call last)",
            "\u001b[0;32m<ipython-input-71-22eb67b8914f>\u001b[0m in \u001b[0;36m<cell line: 11>\u001b[0;34m()\u001b[0m\n\u001b[1;32m      9\u001b[0m \u001b[0;34m\u001b[0m\u001b[0m\n\u001b[1;32m     10\u001b[0m \u001b[0;31m# Crea una instancia de la clase Estudiante con nombre 'Juan' y edad 20.\u001b[0m\u001b[0;34m\u001b[0m\u001b[0;34m\u001b[0m\u001b[0m\n\u001b[0;32m---> 11\u001b[0;31m \u001b[0mjuan\u001b[0m \u001b[0;34m=\u001b[0m \u001b[0mEstudiante\u001b[0m\u001b[0;34m(\u001b[0m\u001b[0;34m'Juan'\u001b[0m\u001b[0;34m,\u001b[0m \u001b[0;36m20\u001b[0m\u001b[0;34m)\u001b[0m\u001b[0;34m\u001b[0m\u001b[0;34m\u001b[0m\u001b[0m\n\u001b[0m\u001b[1;32m     12\u001b[0m \u001b[0;34m\u001b[0m\u001b[0m\n\u001b[1;32m     13\u001b[0m \u001b[0;31m# Imprime el nombre y la edad de Juan.\u001b[0m\u001b[0;34m\u001b[0m\u001b[0;34m\u001b[0m\u001b[0m\n",
            "\u001b[0;31mTypeError\u001b[0m: Estudiante() takes no arguments"
          ]
        }
      ]
    },
    {
      "cell_type": "code",
      "source": [
        "# Ahora, agrega un método a la clase Estudiante.\n",
        "class Estudiante():\n",
        "   def _init_(self,nombre,edad):\n",
        "    self.nombre = nombre\n",
        "    self.edad = edad\n",
        "    def celebrar_cumpleaños(self,edad):\n",
        "      return edad + 1\n",
        "    # Define un método llamado celebrar_cumpleanos que aumenta la edad del estudiante en 1.\n",
        "\n",
        "\n",
        "# Crea una instancia de la clase Estudiante con nombre 'Juan' y edad 20.\n",
        "juan = Estudiante('Juan', 20)\n",
        "\n",
        "# Llama al método celebrar_cumpleanos.\n",
        "juan.celebrar_cumpleanos()\n",
        "\n",
        "# Imprime la edad de Juan.\n",
        "print(juan.edad)  # Debería imprimir 21\n"
      ],
      "metadata": {
        "colab": {
          "base_uri": "https://localhost:8080/",
          "height": 245
        },
        "id": "Shkdr-xftOW-",
        "outputId": "8e0b6783-9fdd-4d02-b484-32bbfc632f4b"
      },
      "execution_count": null,
      "outputs": [
        {
          "output_type": "error",
          "ename": "TypeError",
          "evalue": "ignored",
          "traceback": [
            "\u001b[0;31m---------------------------------------------------------------------------\u001b[0m",
            "\u001b[0;31mTypeError\u001b[0m                                 Traceback (most recent call last)",
            "\u001b[0;32m<ipython-input-72-9256533d3534>\u001b[0m in \u001b[0;36m<cell line: 12>\u001b[0;34m()\u001b[0m\n\u001b[1;32m     10\u001b[0m \u001b[0;34m\u001b[0m\u001b[0m\n\u001b[1;32m     11\u001b[0m \u001b[0;31m# Crea una instancia de la clase Estudiante con nombre 'Juan' y edad 20.\u001b[0m\u001b[0;34m\u001b[0m\u001b[0;34m\u001b[0m\u001b[0m\n\u001b[0;32m---> 12\u001b[0;31m \u001b[0mjuan\u001b[0m \u001b[0;34m=\u001b[0m \u001b[0mEstudiante\u001b[0m\u001b[0;34m(\u001b[0m\u001b[0;34m'Juan'\u001b[0m\u001b[0;34m,\u001b[0m \u001b[0;36m20\u001b[0m\u001b[0;34m)\u001b[0m\u001b[0;34m\u001b[0m\u001b[0;34m\u001b[0m\u001b[0m\n\u001b[0m\u001b[1;32m     13\u001b[0m \u001b[0;34m\u001b[0m\u001b[0m\n\u001b[1;32m     14\u001b[0m \u001b[0;31m# Llama al método celebrar_cumpleanos.\u001b[0m\u001b[0;34m\u001b[0m\u001b[0;34m\u001b[0m\u001b[0m\n",
            "\u001b[0;31mTypeError\u001b[0m: Estudiante() takes no arguments"
          ]
        }
      ]
    },
    {
      "cell_type": "code",
      "source": [
        "# Escribe una clase persona\n",
        "class Persona():\n",
        "  def _init_(self,nombre):\n",
        "    self.nombre = nombre\n",
        "\n",
        "  def saludo(self):\n",
        "    print(f\"{self.nombre} esta saludando\")\n",
        "    # Metodo que salude\n",
        "\n",
        "\n",
        "# Clase que herede de Persona\n",
        "\n",
        "class Empleado(Persona):\n",
        "    def __init__(self, nombre, puesto):\n",
        "        super().__init__(nombre)\n",
        "        self.puesto = puesto\n",
        "\n",
        "    def saludo(self):\n",
        "        return f\"{super().saludo()} y soy un empleado\"\n",
        "\n",
        "class Gerente(Empleado):\n",
        "    def __init__(self, nombre, puesto, departamento):\n",
        "        super().__init__(nombre, puesto)\n",
        "        self.departamento = departamento\n",
        "\n",
        "    def saludo(self):\n",
        "        return f\"{super().saludo()} y soy gerente del departamento de {self.departamento}\"\n",
        "\n",
        "gerente = Gerente(\"Carlos\", \"Gerente\", \"Ventas\")\n",
        "print(gerente.saludo())  # Debería imprimir \"Hola, soy Carlos y soy un empleado y soy gerente del departamento de Ventas\"\n"
      ],
      "metadata": {
        "colab": {
          "base_uri": "https://localhost:8080/",
          "height": 373
        },
        "id": "jtQeyYtbt0yj",
        "outputId": "6e930b03-8f00-4836-b88f-5ab650cc0f87"
      },
      "execution_count": null,
      "outputs": [
        {
          "output_type": "error",
          "ename": "TypeError",
          "evalue": "ignored",
          "traceback": [
            "\u001b[0;31m---------------------------------------------------------------------------\u001b[0m",
            "\u001b[0;31mTypeError\u001b[0m                                 Traceback (most recent call last)",
            "\u001b[0;32m<ipython-input-74-702af8544fa0>\u001b[0m in \u001b[0;36m<cell line: 29>\u001b[0;34m()\u001b[0m\n\u001b[1;32m     27\u001b[0m         \u001b[0;32mreturn\u001b[0m \u001b[0;34mf\"{super().saludo()} y soy gerente del departamento de {self.departamento}\"\u001b[0m\u001b[0;34m\u001b[0m\u001b[0;34m\u001b[0m\u001b[0m\n\u001b[1;32m     28\u001b[0m \u001b[0;34m\u001b[0m\u001b[0m\n\u001b[0;32m---> 29\u001b[0;31m \u001b[0mgerente\u001b[0m \u001b[0;34m=\u001b[0m \u001b[0mGerente\u001b[0m\u001b[0;34m(\u001b[0m\u001b[0;34m\"Carlos\"\u001b[0m\u001b[0;34m,\u001b[0m \u001b[0;34m\"Gerente\"\u001b[0m\u001b[0;34m,\u001b[0m \u001b[0;34m\"Ventas\"\u001b[0m\u001b[0;34m)\u001b[0m\u001b[0;34m\u001b[0m\u001b[0;34m\u001b[0m\u001b[0m\n\u001b[0m\u001b[1;32m     30\u001b[0m \u001b[0mprint\u001b[0m\u001b[0;34m(\u001b[0m\u001b[0mgerente\u001b[0m\u001b[0;34m.\u001b[0m\u001b[0msaludo\u001b[0m\u001b[0;34m(\u001b[0m\u001b[0;34m)\u001b[0m\u001b[0;34m)\u001b[0m  \u001b[0;31m# Debería imprimir \"Hola, soy Carlos y soy un empleado y soy gerente del departamento de Ventas\"\u001b[0m\u001b[0;34m\u001b[0m\u001b[0;34m\u001b[0m\u001b[0m\n",
            "\u001b[0;32m<ipython-input-74-702af8544fa0>\u001b[0m in \u001b[0;36m__init__\u001b[0;34m(self, nombre, puesto, departamento)\u001b[0m\n\u001b[1;32m     21\u001b[0m \u001b[0;32mclass\u001b[0m \u001b[0mGerente\u001b[0m\u001b[0;34m(\u001b[0m\u001b[0mEmpleado\u001b[0m\u001b[0;34m)\u001b[0m\u001b[0;34m:\u001b[0m\u001b[0;34m\u001b[0m\u001b[0;34m\u001b[0m\u001b[0m\n\u001b[1;32m     22\u001b[0m     \u001b[0;32mdef\u001b[0m \u001b[0m__init__\u001b[0m\u001b[0;34m(\u001b[0m\u001b[0mself\u001b[0m\u001b[0;34m,\u001b[0m \u001b[0mnombre\u001b[0m\u001b[0;34m,\u001b[0m \u001b[0mpuesto\u001b[0m\u001b[0;34m,\u001b[0m \u001b[0mdepartamento\u001b[0m\u001b[0;34m)\u001b[0m\u001b[0;34m:\u001b[0m\u001b[0;34m\u001b[0m\u001b[0;34m\u001b[0m\u001b[0m\n\u001b[0;32m---> 23\u001b[0;31m         \u001b[0msuper\u001b[0m\u001b[0;34m(\u001b[0m\u001b[0;34m)\u001b[0m\u001b[0;34m.\u001b[0m\u001b[0m__init__\u001b[0m\u001b[0;34m(\u001b[0m\u001b[0mnombre\u001b[0m\u001b[0;34m,\u001b[0m \u001b[0mpuesto\u001b[0m\u001b[0;34m)\u001b[0m\u001b[0;34m\u001b[0m\u001b[0;34m\u001b[0m\u001b[0m\n\u001b[0m\u001b[1;32m     24\u001b[0m         \u001b[0mself\u001b[0m\u001b[0;34m.\u001b[0m\u001b[0mdepartamento\u001b[0m \u001b[0;34m=\u001b[0m \u001b[0mdepartamento\u001b[0m\u001b[0;34m\u001b[0m\u001b[0;34m\u001b[0m\u001b[0m\n\u001b[1;32m     25\u001b[0m \u001b[0;34m\u001b[0m\u001b[0m\n",
            "\u001b[0;32m<ipython-input-74-702af8544fa0>\u001b[0m in \u001b[0;36m__init__\u001b[0;34m(self, nombre, puesto)\u001b[0m\n\u001b[1;32m     13\u001b[0m \u001b[0;32mclass\u001b[0m \u001b[0mEmpleado\u001b[0m\u001b[0;34m(\u001b[0m\u001b[0mPersona\u001b[0m\u001b[0;34m)\u001b[0m\u001b[0;34m:\u001b[0m\u001b[0;34m\u001b[0m\u001b[0;34m\u001b[0m\u001b[0m\n\u001b[1;32m     14\u001b[0m     \u001b[0;32mdef\u001b[0m \u001b[0m__init__\u001b[0m\u001b[0;34m(\u001b[0m\u001b[0mself\u001b[0m\u001b[0;34m,\u001b[0m \u001b[0mnombre\u001b[0m\u001b[0;34m,\u001b[0m \u001b[0mpuesto\u001b[0m\u001b[0;34m)\u001b[0m\u001b[0;34m:\u001b[0m\u001b[0;34m\u001b[0m\u001b[0;34m\u001b[0m\u001b[0m\n\u001b[0;32m---> 15\u001b[0;31m         \u001b[0msuper\u001b[0m\u001b[0;34m(\u001b[0m\u001b[0;34m)\u001b[0m\u001b[0;34m.\u001b[0m\u001b[0m__init__\u001b[0m\u001b[0;34m(\u001b[0m\u001b[0mnombre\u001b[0m\u001b[0;34m)\u001b[0m\u001b[0;34m\u001b[0m\u001b[0;34m\u001b[0m\u001b[0m\n\u001b[0m\u001b[1;32m     16\u001b[0m         \u001b[0mself\u001b[0m\u001b[0;34m.\u001b[0m\u001b[0mpuesto\u001b[0m \u001b[0;34m=\u001b[0m \u001b[0mpuesto\u001b[0m\u001b[0;34m\u001b[0m\u001b[0;34m\u001b[0m\u001b[0m\n\u001b[1;32m     17\u001b[0m \u001b[0;34m\u001b[0m\u001b[0m\n",
            "\u001b[0;31mTypeError\u001b[0m: object.__init__() takes exactly one argument (the instance to initialize)"
          ]
        }
      ]
    },
    {
      "cell_type": "code",
      "source": [
        "class Nadador:\n",
        "    def nadar(self):\n",
        "        return \"Nado como un pez\"\n",
        "\n",
        "class Corredor:\n",
        "    def correr(self):\n",
        "        return \"Corro como el viento\"\n",
        "\n",
        "# Pon la clase Triatleta con herencia multiple\n",
        "\n",
        "# Metodo competir\n",
        "    def competir(self):\n",
        "        return f\"{self.nadar()} y {self.correr()}\"\n",
        "\n",
        "triatleta = Triatleta()\n",
        "print(triatleta.competir())  # Debería imprimir \"Nado como un pez y Corro como el viento\"\n"
      ],
      "metadata": {
        "id": "opmrIt4ougz4"
      },
      "execution_count": null,
      "outputs": []
    },
    {
      "cell_type": "code",
      "source": [
        "# Haz Polimorfismo\n",
        "class Animal:\n",
        "    def sonido(self):\n",
        "        return \"El animal hace un sonido\"\n",
        "\n",
        "\n",
        "class Perro(Animal):\n",
        "  # Metodo sonido(self)   return \"El perro ladra\"\n",
        "\n",
        "class Gato(Animal):\n",
        "  # Metodo sonido(self)  return \"El gato maúlla\"\n",
        "\n",
        "def hacer_sonido(animal):\n",
        "    return animal.sonido()\n",
        "\n",
        "perro = Perro()\n",
        "gato = Gato()\n",
        "\n",
        "print(hacer_sonido(perro))  # Debería imprimir \"El perro ladra\"\n",
        "print(hacer_sonido(gato))  # Debería imprimir \"El gato maúlla\"\n"
      ],
      "metadata": {
        "id": "swWRVO5Hul2V"
      },
      "execution_count": null,
      "outputs": []
    },
    {
      "cell_type": "code",
      "source": [
        "# SOLO corre la celda\n",
        "class Coche:\n",
        "    def __init__(self, marca, modelo, año):\n",
        "        self.__marca = marca\n",
        "        self.__modelo = modelo\n",
        "        self.__año = año\n",
        "\n",
        "    def get_marca(self):\n",
        "        return self.__marca\n",
        "\n",
        "    def get_modelo(self):\n",
        "        return self.__modelo\n",
        "\n",
        "    def get_año(self):\n",
        "        return self.__año\n",
        "\n",
        "    def set_marca(self, marca):\n",
        "        self.__marca = marca\n",
        "\n",
        "    def set_modelo(self, modelo):\n",
        "        self.__modelo = modelo\n",
        "\n",
        "    def set_año(self, año):\n",
        "        if año > 1900 and año <= 2023:\n",
        "            self.__año = año\n",
        "        else:\n",
        "            print(\"Año no válido\")\n",
        "\n",
        "mi_coche = Coche(\"Toyota\", \"Corolla\", 2020)\n",
        "print(mi_coche.get_marca())\n",
        "mi_coche.set_año(2025)\n"
      ],
      "metadata": {
        "colab": {
          "base_uri": "https://localhost:8080/"
        },
        "id": "lcdPHplAupPF",
        "outputId": "71d48f6c-3839-4a4d-f789-013b3522781b"
      },
      "execution_count": null,
      "outputs": [
        {
          "output_type": "stream",
          "name": "stdout",
          "text": [
            "Toyota\n",
            "Año no válido\n"
          ]
        }
      ]
    },
    {
      "cell_type": "code",
      "source": [
        "def and_logico(t1,f1):\n",
        "  if t1== True & f1==True:\n",
        "    print(True)\n",
        "  elif t1==True | f1==False:\n",
        "    print(False)\n",
        "  elif t1== False | f1== False:\n",
        "    print(False)\n",
        "\n",
        "\n",
        "print(and_logico(True, False))  # Debería imprimir False"
      ],
      "metadata": {
        "colab": {
          "base_uri": "https://localhost:8080/"
        },
        "id": "Ge3kJg7wuv3S",
        "outputId": "18a2b276-ad6b-4074-e3cc-f46cf66bc74c"
      },
      "execution_count": null,
      "outputs": [
        {
          "output_type": "stream",
          "name": "stdout",
          "text": [
            "None\n"
          ]
        }
      ]
    },
    {
      "cell_type": "code",
      "source": [
        "def or_logico(t,f):\n",
        "  if t== True | f==True:\n",
        "    print(True)\n",
        "\n",
        "  elif t== False & f== False:\n",
        "    print(False)\n",
        "\n",
        "print(or_logico(True, False))"
      ],
      "metadata": {
        "colab": {
          "base_uri": "https://localhost:8080/"
        },
        "id": "MVtwGF7Xu4EH",
        "outputId": "d55b92b5-d2e8-47e4-cb59-1f4a3b53e4a0"
      },
      "execution_count": null,
      "outputs": [
        {
          "output_type": "stream",
          "name": "stdout",
          "text": [
            "True\n",
            "None\n"
          ]
        }
      ]
    },
    {
      "cell_type": "code",
      "source": [
        "tipos_de_postres = 3\n",
        "variedades_de_sabor = 2\n",
        "opciones_de_postres = tipos_de_postres * variedades_de_sabor\n",
        "print(opciones_de_postres)\n"
      ],
      "metadata": {
        "colab": {
          "base_uri": "https://localhost:8080/"
        },
        "id": "BsneThVPu6aP",
        "outputId": "cd479629-c9b4-4a32-f170-57d510d79e50"
      },
      "execution_count": null,
      "outputs": [
        {
          "output_type": "stream",
          "name": "stdout",
          "text": [
            "6\n"
          ]
        }
      ]
    },
    {
      "cell_type": "code",
      "source": [
        "def factorial(n):\n",
        "  fact=1\n",
        "  i = 1\n",
        "  while (i <= n):\n",
        "      fact = fact * i\n",
        "      i = i + 1\n",
        "  return fact\n",
        "print(factorial(5))  # Debería imprimir 120"
      ],
      "metadata": {
        "colab": {
          "base_uri": "https://localhost:8080/"
        },
        "id": "tjVwVZkuu--q",
        "outputId": "39dd9455-9892-4358-8113-6a2beafed70d"
      },
      "execution_count": null,
      "outputs": [
        {
          "output_type": "stream",
          "name": "stdout",
          "text": [
            "120\n"
          ]
        }
      ]
    },
    {
      "cell_type": "code",
      "source": [
        "# Usando la función factorial que escribiste en el ejercicio anterior,\n",
        "# escribe una función que calcule las combinaciones de m elementos tomados de n en n (m elige n).\n",
        "def combinaciones(m,n):\n",
        "  factorial = 1\n",
        "  i = 1\n",
        "  while (i <= n):\n",
        "      factorial = factorial * i\n",
        "      i = i + 1\n",
        "  return n/m(n-m)\n",
        "m=5.0\n",
        "n=2.0\n",
        "print(combinaciones(5, 2))  # Debería imprimir 10\n"
      ],
      "metadata": {
        "colab": {
          "base_uri": "https://localhost:8080/",
          "height": 332
        },
        "id": "K_rKCyaDvDIK",
        "outputId": "32917407-2b4b-4083-a620-959c0a9de318"
      },
      "execution_count": null,
      "outputs": [
        {
          "output_type": "error",
          "ename": "TypeError",
          "evalue": "ignored",
          "traceback": [
            "\u001b[0;31m---------------------------------------------------------------------------\u001b[0m",
            "\u001b[0;31mTypeError\u001b[0m                                 Traceback (most recent call last)",
            "\u001b[0;32m<ipython-input-12-710b2ad5dd87>\u001b[0m in \u001b[0;36m<cell line: 12>\u001b[0;34m()\u001b[0m\n\u001b[1;32m     10\u001b[0m \u001b[0mm\u001b[0m\u001b[0;34m=\u001b[0m\u001b[0;36m5.0\u001b[0m\u001b[0;34m\u001b[0m\u001b[0;34m\u001b[0m\u001b[0m\n\u001b[1;32m     11\u001b[0m \u001b[0mn\u001b[0m\u001b[0;34m=\u001b[0m\u001b[0;36m2.0\u001b[0m\u001b[0;34m\u001b[0m\u001b[0;34m\u001b[0m\u001b[0m\n\u001b[0;32m---> 12\u001b[0;31m \u001b[0mprint\u001b[0m\u001b[0;34m(\u001b[0m\u001b[0mcombinaciones\u001b[0m\u001b[0;34m(\u001b[0m\u001b[0;36m5\u001b[0m\u001b[0;34m,\u001b[0m \u001b[0;36m2\u001b[0m\u001b[0;34m)\u001b[0m\u001b[0;34m)\u001b[0m  \u001b[0;31m# Debería imprimir 10\u001b[0m\u001b[0;34m\u001b[0m\u001b[0;34m\u001b[0m\u001b[0m\n\u001b[0m",
            "\u001b[0;32m<ipython-input-12-710b2ad5dd87>\u001b[0m in \u001b[0;36mcombinaciones\u001b[0;34m(m, n)\u001b[0m\n\u001b[1;32m      7\u001b[0m       \u001b[0mfactorial\u001b[0m \u001b[0;34m=\u001b[0m \u001b[0mfactorial\u001b[0m \u001b[0;34m*\u001b[0m \u001b[0mi\u001b[0m\u001b[0;34m\u001b[0m\u001b[0;34m\u001b[0m\u001b[0m\n\u001b[1;32m      8\u001b[0m       \u001b[0mi\u001b[0m \u001b[0;34m=\u001b[0m \u001b[0mi\u001b[0m \u001b[0;34m+\u001b[0m \u001b[0;36m1\u001b[0m\u001b[0;34m\u001b[0m\u001b[0;34m\u001b[0m\u001b[0m\n\u001b[0;32m----> 9\u001b[0;31m   \u001b[0;32mreturn\u001b[0m \u001b[0mn\u001b[0m\u001b[0;34m/\u001b[0m\u001b[0mm\u001b[0m\u001b[0;34m(\u001b[0m\u001b[0mn\u001b[0m\u001b[0;34m-\u001b[0m\u001b[0mm\u001b[0m\u001b[0;34m)\u001b[0m\u001b[0;34m\u001b[0m\u001b[0;34m\u001b[0m\u001b[0m\n\u001b[0m\u001b[1;32m     10\u001b[0m \u001b[0mm\u001b[0m\u001b[0;34m=\u001b[0m\u001b[0;36m5.0\u001b[0m\u001b[0;34m\u001b[0m\u001b[0;34m\u001b[0m\u001b[0m\n\u001b[1;32m     11\u001b[0m \u001b[0mn\u001b[0m\u001b[0;34m=\u001b[0m\u001b[0;36m2.0\u001b[0m\u001b[0;34m\u001b[0m\u001b[0;34m\u001b[0m\u001b[0m\n",
            "\u001b[0;31mTypeError\u001b[0m: 'int' object is not callable"
          ]
        }
      ]
    }
  ]
}